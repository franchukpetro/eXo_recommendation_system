{
  "nbformat": 4,
  "nbformat_minor": 0,
  "metadata": {
    "colab": {
      "name": "eXo_EDA_production.ipynb",
      "provenance": [],
      "collapsed_sections": []
    },
    "kernelspec": {
      "name": "python3",
      "display_name": "Python 3"
    },
    "accelerator": "GPU"
  },
  "cells": [
    {
      "cell_type": "code",
      "metadata": {
        "id": "aSYsNfsQweMo",
        "colab_type": "code",
        "cellView": "form",
        "colab": {}
      },
      "source": [
        "#@title Download dataset\n",
        "\n",
        "from google.colab import files\n",
        "files.upload()"
      ],
      "execution_count": 0,
      "outputs": []
    },
    {
      "cell_type": "code",
      "metadata": {
        "id": "TW9bI1EewzDI",
        "colab_type": "code",
        "colab": {}
      },
      "source": [
        "import pandas as pd\n",
        "import numpy as np\n",
        "\n",
        "import matplotlib.pyplot as plt"
      ],
      "execution_count": 0,
      "outputs": []
    },
    {
      "cell_type": "code",
      "metadata": {
        "id": "ZkVVALT4xaY8",
        "colab_type": "code",
        "colab": {}
      },
      "source": [
        "train_df = pd.read_csv(\"training.csv\")\n",
        "test_df = pd.read_csv(\"predict.csv\")"
      ],
      "execution_count": 0,
      "outputs": []
    },
    {
      "cell_type": "code",
      "metadata": {
        "id": "zXzSe1jDxlVM",
        "colab_type": "code",
        "outputId": "a43041eb-9814-4cc5-93c4-a518136da812",
        "colab": {
          "base_uri": "https://localhost:8080/",
          "height": 34
        }
      },
      "source": [
        "train_df.shape"
      ],
      "execution_count": 60,
      "outputs": [
        {
          "output_type": "execute_result",
          "data": {
            "text/plain": [
              "(9418, 72)"
            ]
          },
          "metadata": {
            "tags": []
          },
          "execution_count": 60
        }
      ]
    },
    {
      "cell_type": "code",
      "metadata": {
        "id": "Bgsd9X0ayK1z",
        "colab_type": "code",
        "outputId": "3df5625e-2f28-46df-ef79-1bd3e9dd81ef",
        "colab": {
          "base_uri": "https://localhost:8080/",
          "height": 226
        }
      },
      "source": [
        "train_df.head()"
      ],
      "execution_count": 61,
      "outputs": [
        {
          "output_type": "execute_result",
          "data": {
            "text/html": [
              "<div>\n",
              "<style scoped>\n",
              "    .dataframe tbody tr th:only-of-type {\n",
              "        vertical-align: middle;\n",
              "    }\n",
              "\n",
              "    .dataframe tbody tr th {\n",
              "        vertical-align: top;\n",
              "    }\n",
              "\n",
              "    .dataframe thead th {\n",
              "        text-align: right;\n",
              "    }\n",
              "</style>\n",
              "<table border=\"1\" class=\"dataframe\">\n",
              "  <thead>\n",
              "    <tr style=\"text-align: right;\">\n",
              "      <th></th>\n",
              "      <th>id</th>\n",
              "      <th>posted_time</th>\n",
              "      <th>updated_time</th>\n",
              "      <th>age</th>\n",
              "      <th>updated_age</th>\n",
              "      <th>app_type</th>\n",
              "      <th>owner_id</th>\n",
              "      <th>owner_type</th>\n",
              "      <th>owner_influence</th>\n",
              "      <th>number_of_likes</th>\n",
              "      <th>number_of_comments</th>\n",
              "      <th>reactivity</th>\n",
              "      <th>is_mentions_me</th>\n",
              "      <th>is_mentions_connections</th>\n",
              "      <th>is_commented_by_me</th>\n",
              "      <th>is_commented_by_connections</th>\n",
              "      <th>is_liked_by_me</th>\n",
              "      <th>is_liked_by_connections</th>\n",
              "      <th>poster_id</th>\n",
              "      <th>poster_gender</th>\n",
              "      <th>poster_is_employee</th>\n",
              "      <th>poster_is_lead</th>\n",
              "      <th>poster_is_in_connections</th>\n",
              "      <th>poster_focus</th>\n",
              "      <th>poster_order</th>\n",
              "      <th>poster_influence</th>\n",
              "      <th>participant1_id</th>\n",
              "      <th>participant1_action</th>\n",
              "      <th>participant1_gender</th>\n",
              "      <th>participant1_is_employee</th>\n",
              "      <th>participant1_is_lead</th>\n",
              "      <th>participant1_is_in_connections</th>\n",
              "      <th>participant1_focus</th>\n",
              "      <th>participant1_order</th>\n",
              "      <th>participant1_influence</th>\n",
              "      <th>participant2_id</th>\n",
              "      <th>participant2_action</th>\n",
              "      <th>participant2_gender</th>\n",
              "      <th>participant2_is_employee</th>\n",
              "      <th>participant2_is_lead</th>\n",
              "      <th>participant2_is_in_connections</th>\n",
              "      <th>participant2_focus</th>\n",
              "      <th>participant2_order</th>\n",
              "      <th>participant2_influence</th>\n",
              "      <th>participant3_id</th>\n",
              "      <th>participant3_action</th>\n",
              "      <th>participant3_gender</th>\n",
              "      <th>participant3_is_employee</th>\n",
              "      <th>participant3_is_lead</th>\n",
              "      <th>participant3_is_in_connections</th>\n",
              "      <th>participant3_focus</th>\n",
              "      <th>participant3_order</th>\n",
              "      <th>participant3_influence</th>\n",
              "      <th>participant4_id</th>\n",
              "      <th>participant4_action</th>\n",
              "      <th>participant4_gender</th>\n",
              "      <th>participant4_is_employee</th>\n",
              "      <th>participant4_is_lead</th>\n",
              "      <th>participant4_is_in_connections</th>\n",
              "      <th>participant4_focus</th>\n",
              "      <th>participant4_order</th>\n",
              "      <th>participant4_influence</th>\n",
              "      <th>participant5_id</th>\n",
              "      <th>participant5_action</th>\n",
              "      <th>participant5_gender</th>\n",
              "      <th>participant5_is_employee</th>\n",
              "      <th>participant5_is_lead</th>\n",
              "      <th>participant5_is_in_connections</th>\n",
              "      <th>participant5_focus</th>\n",
              "      <th>participant5_order</th>\n",
              "      <th>participant5_influence</th>\n",
              "      <th>rank</th>\n",
              "    </tr>\n",
              "  </thead>\n",
              "  <tbody>\n",
              "    <tr>\n",
              "      <th>0</th>\n",
              "      <td>175339</td>\n",
              "      <td>1.514050e+12</td>\n",
              "      <td>1.514050e+12</td>\n",
              "      <td>6.315242e+10</td>\n",
              "      <td>6.315242e+10</td>\n",
              "      <td>other</td>\n",
              "      <td>57727</td>\n",
              "      <td>space</td>\n",
              "      <td>0.99973</td>\n",
              "      <td>1</td>\n",
              "      <td>0</td>\n",
              "      <td>1.00000</td>\n",
              "      <td>0</td>\n",
              "      <td>0</td>\n",
              "      <td>0</td>\n",
              "      <td>0</td>\n",
              "      <td>0</td>\n",
              "      <td>1</td>\n",
              "      <td>5</td>\n",
              "      <td>male</td>\n",
              "      <td>1</td>\n",
              "      <td>0</td>\n",
              "      <td>1</td>\n",
              "      <td>marketing</td>\n",
              "      <td>6</td>\n",
              "      <td>0.99962</td>\n",
              "      <td>146</td>\n",
              "      <td>liked</td>\n",
              "      <td>male</td>\n",
              "      <td>1</td>\n",
              "      <td>0</td>\n",
              "      <td>1</td>\n",
              "      <td>marketing</td>\n",
              "      <td>5</td>\n",
              "      <td>0.99899</td>\n",
              "      <td>22636</td>\n",
              "      <td>viewed</td>\n",
              "      <td>male</td>\n",
              "      <td>0</td>\n",
              "      <td>0</td>\n",
              "      <td>1</td>\n",
              "      <td>other</td>\n",
              "      <td>4</td>\n",
              "      <td>0.23077</td>\n",
              "      <td>3080</td>\n",
              "      <td>viewed</td>\n",
              "      <td>male</td>\n",
              "      <td>0</td>\n",
              "      <td>0</td>\n",
              "      <td>1</td>\n",
              "      <td>marketing</td>\n",
              "      <td>3</td>\n",
              "      <td>0.23077</td>\n",
              "      <td>44661</td>\n",
              "      <td>viewed</td>\n",
              "      <td>male</td>\n",
              "      <td>0</td>\n",
              "      <td>0</td>\n",
              "      <td>1</td>\n",
              "      <td>other</td>\n",
              "      <td>2</td>\n",
              "      <td>0.23077</td>\n",
              "      <td>3089</td>\n",
              "      <td>viewed</td>\n",
              "      <td>male</td>\n",
              "      <td>0</td>\n",
              "      <td>0</td>\n",
              "      <td>1</td>\n",
              "      <td>other</td>\n",
              "      <td>1</td>\n",
              "      <td>0.23077</td>\n",
              "      <td>0.73677</td>\n",
              "    </tr>\n",
              "    <tr>\n",
              "      <th>1</th>\n",
              "      <td>175348</td>\n",
              "      <td>1.514110e+12</td>\n",
              "      <td>1.515160e+12</td>\n",
              "      <td>6.309278e+10</td>\n",
              "      <td>6.204696e+10</td>\n",
              "      <td>forum</td>\n",
              "      <td>111913</td>\n",
              "      <td>space</td>\n",
              "      <td>0.99977</td>\n",
              "      <td>0</td>\n",
              "      <td>2</td>\n",
              "      <td>0.12336</td>\n",
              "      <td>0</td>\n",
              "      <td>0</td>\n",
              "      <td>0</td>\n",
              "      <td>1</td>\n",
              "      <td>0</td>\n",
              "      <td>0</td>\n",
              "      <td>146</td>\n",
              "      <td>male</td>\n",
              "      <td>1</td>\n",
              "      <td>0</td>\n",
              "      <td>1</td>\n",
              "      <td>marketing</td>\n",
              "      <td>6</td>\n",
              "      <td>0.99899</td>\n",
              "      <td>13659</td>\n",
              "      <td>commented</td>\n",
              "      <td>male</td>\n",
              "      <td>0</td>\n",
              "      <td>0</td>\n",
              "      <td>0</td>\n",
              "      <td>other</td>\n",
              "      <td>5</td>\n",
              "      <td>0.99756</td>\n",
              "      <td>146</td>\n",
              "      <td>commented</td>\n",
              "      <td>male</td>\n",
              "      <td>1</td>\n",
              "      <td>0</td>\n",
              "      <td>1</td>\n",
              "      <td>marketing</td>\n",
              "      <td>4</td>\n",
              "      <td>0.99899</td>\n",
              "      <td>22636</td>\n",
              "      <td>viewed</td>\n",
              "      <td>male</td>\n",
              "      <td>0</td>\n",
              "      <td>0</td>\n",
              "      <td>1</td>\n",
              "      <td>other</td>\n",
              "      <td>3</td>\n",
              "      <td>0.23077</td>\n",
              "      <td>3080</td>\n",
              "      <td>viewed</td>\n",
              "      <td>male</td>\n",
              "      <td>0</td>\n",
              "      <td>0</td>\n",
              "      <td>1</td>\n",
              "      <td>marketing</td>\n",
              "      <td>2</td>\n",
              "      <td>0.23077</td>\n",
              "      <td>44661</td>\n",
              "      <td>viewed</td>\n",
              "      <td>male</td>\n",
              "      <td>0</td>\n",
              "      <td>0</td>\n",
              "      <td>1</td>\n",
              "      <td>other</td>\n",
              "      <td>1</td>\n",
              "      <td>0.23077</td>\n",
              "      <td>0.78240</td>\n",
              "    </tr>\n",
              "    <tr>\n",
              "      <th>2</th>\n",
              "      <td>175353</td>\n",
              "      <td>1.514120e+12</td>\n",
              "      <td>1.515160e+12</td>\n",
              "      <td>6.309049e+10</td>\n",
              "      <td>6.204716e+10</td>\n",
              "      <td>forum</td>\n",
              "      <td>111913</td>\n",
              "      <td>space</td>\n",
              "      <td>0.99977</td>\n",
              "      <td>0</td>\n",
              "      <td>3</td>\n",
              "      <td>0.12336</td>\n",
              "      <td>0</td>\n",
              "      <td>0</td>\n",
              "      <td>0</td>\n",
              "      <td>1</td>\n",
              "      <td>0</td>\n",
              "      <td>0</td>\n",
              "      <td>146</td>\n",
              "      <td>male</td>\n",
              "      <td>1</td>\n",
              "      <td>0</td>\n",
              "      <td>1</td>\n",
              "      <td>marketing</td>\n",
              "      <td>6</td>\n",
              "      <td>0.99899</td>\n",
              "      <td>13659</td>\n",
              "      <td>commented</td>\n",
              "      <td>male</td>\n",
              "      <td>0</td>\n",
              "      <td>0</td>\n",
              "      <td>0</td>\n",
              "      <td>other</td>\n",
              "      <td>5</td>\n",
              "      <td>0.99756</td>\n",
              "      <td>13</td>\n",
              "      <td>commented</td>\n",
              "      <td>male</td>\n",
              "      <td>1</td>\n",
              "      <td>0</td>\n",
              "      <td>1</td>\n",
              "      <td>marketing</td>\n",
              "      <td>4</td>\n",
              "      <td>0.99895</td>\n",
              "      <td>146</td>\n",
              "      <td>commented</td>\n",
              "      <td>male</td>\n",
              "      <td>1</td>\n",
              "      <td>0</td>\n",
              "      <td>1</td>\n",
              "      <td>marketing</td>\n",
              "      <td>3</td>\n",
              "      <td>0.99899</td>\n",
              "      <td>22636</td>\n",
              "      <td>viewed</td>\n",
              "      <td>male</td>\n",
              "      <td>0</td>\n",
              "      <td>0</td>\n",
              "      <td>1</td>\n",
              "      <td>other</td>\n",
              "      <td>2</td>\n",
              "      <td>0.23077</td>\n",
              "      <td>3080</td>\n",
              "      <td>viewed</td>\n",
              "      <td>male</td>\n",
              "      <td>0</td>\n",
              "      <td>0</td>\n",
              "      <td>1</td>\n",
              "      <td>marketing</td>\n",
              "      <td>1</td>\n",
              "      <td>0.23077</td>\n",
              "      <td>0.82125</td>\n",
              "    </tr>\n",
              "    <tr>\n",
              "      <th>3</th>\n",
              "      <td>175371</td>\n",
              "      <td>1.514190e+12</td>\n",
              "      <td>1.514190e+12</td>\n",
              "      <td>6.301324e+10</td>\n",
              "      <td>6.301324e+10</td>\n",
              "      <td>other</td>\n",
              "      <td>9037</td>\n",
              "      <td>space</td>\n",
              "      <td>0.99949</td>\n",
              "      <td>0</td>\n",
              "      <td>0</td>\n",
              "      <td>0.00000</td>\n",
              "      <td>0</td>\n",
              "      <td>0</td>\n",
              "      <td>0</td>\n",
              "      <td>0</td>\n",
              "      <td>0</td>\n",
              "      <td>0</td>\n",
              "      <td>7</td>\n",
              "      <td>male</td>\n",
              "      <td>1</td>\n",
              "      <td>0</td>\n",
              "      <td>1</td>\n",
              "      <td>marketing</td>\n",
              "      <td>6</td>\n",
              "      <td>0.99886</td>\n",
              "      <td>22636</td>\n",
              "      <td>viewed</td>\n",
              "      <td>male</td>\n",
              "      <td>0</td>\n",
              "      <td>0</td>\n",
              "      <td>1</td>\n",
              "      <td>other</td>\n",
              "      <td>5</td>\n",
              "      <td>0.23077</td>\n",
              "      <td>3080</td>\n",
              "      <td>viewed</td>\n",
              "      <td>male</td>\n",
              "      <td>0</td>\n",
              "      <td>0</td>\n",
              "      <td>1</td>\n",
              "      <td>marketing</td>\n",
              "      <td>4</td>\n",
              "      <td>0.23077</td>\n",
              "      <td>44661</td>\n",
              "      <td>viewed</td>\n",
              "      <td>male</td>\n",
              "      <td>0</td>\n",
              "      <td>0</td>\n",
              "      <td>1</td>\n",
              "      <td>other</td>\n",
              "      <td>3</td>\n",
              "      <td>0.23077</td>\n",
              "      <td>3089</td>\n",
              "      <td>viewed</td>\n",
              "      <td>male</td>\n",
              "      <td>0</td>\n",
              "      <td>0</td>\n",
              "      <td>1</td>\n",
              "      <td>other</td>\n",
              "      <td>2</td>\n",
              "      <td>0.23077</td>\n",
              "      <td>3084</td>\n",
              "      <td>viewed</td>\n",
              "      <td>male</td>\n",
              "      <td>0</td>\n",
              "      <td>0</td>\n",
              "      <td>1</td>\n",
              "      <td>marketing</td>\n",
              "      <td>1</td>\n",
              "      <td>0.23077</td>\n",
              "      <td>0.61522</td>\n",
              "    </tr>\n",
              "    <tr>\n",
              "      <th>4</th>\n",
              "      <td>175372</td>\n",
              "      <td>1.514190e+12</td>\n",
              "      <td>1.514190e+12</td>\n",
              "      <td>6.301323e+10</td>\n",
              "      <td>6.301323e+10</td>\n",
              "      <td>other</td>\n",
              "      <td>9037</td>\n",
              "      <td>space</td>\n",
              "      <td>0.99949</td>\n",
              "      <td>0</td>\n",
              "      <td>0</td>\n",
              "      <td>0.00000</td>\n",
              "      <td>0</td>\n",
              "      <td>0</td>\n",
              "      <td>0</td>\n",
              "      <td>0</td>\n",
              "      <td>0</td>\n",
              "      <td>0</td>\n",
              "      <td>7</td>\n",
              "      <td>male</td>\n",
              "      <td>1</td>\n",
              "      <td>0</td>\n",
              "      <td>1</td>\n",
              "      <td>marketing</td>\n",
              "      <td>6</td>\n",
              "      <td>0.99886</td>\n",
              "      <td>22636</td>\n",
              "      <td>viewed</td>\n",
              "      <td>male</td>\n",
              "      <td>0</td>\n",
              "      <td>0</td>\n",
              "      <td>1</td>\n",
              "      <td>other</td>\n",
              "      <td>5</td>\n",
              "      <td>0.23077</td>\n",
              "      <td>3080</td>\n",
              "      <td>viewed</td>\n",
              "      <td>male</td>\n",
              "      <td>0</td>\n",
              "      <td>0</td>\n",
              "      <td>1</td>\n",
              "      <td>marketing</td>\n",
              "      <td>4</td>\n",
              "      <td>0.23077</td>\n",
              "      <td>44661</td>\n",
              "      <td>viewed</td>\n",
              "      <td>male</td>\n",
              "      <td>0</td>\n",
              "      <td>0</td>\n",
              "      <td>1</td>\n",
              "      <td>other</td>\n",
              "      <td>3</td>\n",
              "      <td>0.23077</td>\n",
              "      <td>3089</td>\n",
              "      <td>viewed</td>\n",
              "      <td>male</td>\n",
              "      <td>0</td>\n",
              "      <td>0</td>\n",
              "      <td>1</td>\n",
              "      <td>other</td>\n",
              "      <td>2</td>\n",
              "      <td>0.23077</td>\n",
              "      <td>3084</td>\n",
              "      <td>viewed</td>\n",
              "      <td>male</td>\n",
              "      <td>0</td>\n",
              "      <td>0</td>\n",
              "      <td>1</td>\n",
              "      <td>marketing</td>\n",
              "      <td>1</td>\n",
              "      <td>0.23077</td>\n",
              "      <td>0.61522</td>\n",
              "    </tr>\n",
              "  </tbody>\n",
              "</table>\n",
              "</div>"
            ],
            "text/plain": [
              "       id   posted_time  ...  participant5_influence     rank\n",
              "0  175339  1.514050e+12  ...                 0.23077  0.73677\n",
              "1  175348  1.514110e+12  ...                 0.23077  0.78240\n",
              "2  175353  1.514120e+12  ...                 0.23077  0.82125\n",
              "3  175371  1.514190e+12  ...                 0.23077  0.61522\n",
              "4  175372  1.514190e+12  ...                 0.23077  0.61522\n",
              "\n",
              "[5 rows x 72 columns]"
            ]
          },
          "metadata": {
            "tags": []
          },
          "execution_count": 61
        }
      ]
    },
    {
      "cell_type": "markdown",
      "metadata": {
        "id": "F-g5RpRIUzRs",
        "colab_type": "text"
      },
      "source": [
        "# **Age column investigation**\n",
        "Here I'll research and investigate how do we can proceed with 'age' column"
      ]
    },
    {
      "cell_type": "code",
      "metadata": {
        "id": "SackB0QU5Pnb",
        "colab_type": "code",
        "colab": {}
      },
      "source": [
        "import datetime\n",
        "import time\n",
        "\n",
        "# date of dataset creation\n",
        "DATE = '4/02/2020'\n",
        "\n",
        "current_date = datetime.datetime.strptime(DATE, \"%d/%m/%Y\")\n",
        "current_secs = time.mktime(current_date.timetuple())"
      ],
      "execution_count": 0,
      "outputs": []
    },
    {
      "cell_type": "code",
      "metadata": {
        "id": "UeySVMKdW2_X",
        "colab_type": "code",
        "colab": {}
      },
      "source": [
        "def get_date(secs):\n",
        "  return datetime.datetime.fromtimestamp(current_secs - secs).strftime(\"%A, %B %d, %Y %I:%M:%S\")"
      ],
      "execution_count": 0,
      "outputs": []
    },
    {
      "cell_type": "code",
      "metadata": {
        "id": "29i7g_alRXvn",
        "colab_type": "code",
        "colab": {}
      },
      "source": [
        "# convert time from miliseconds to seconds\n",
        "train_df.age /= 1000"
      ],
      "execution_count": 0,
      "outputs": []
    },
    {
      "cell_type": "code",
      "metadata": {
        "id": "d5xjui9vV_RS",
        "colab_type": "code",
        "outputId": "c6c2b9ef-8b2f-4cf3-fe53-3534362e3616",
        "colab": {
          "base_uri": "https://localhost:8080/",
          "height": 306
        }
      },
      "source": [
        "train_df.age.plot.kde()"
      ],
      "execution_count": 65,
      "outputs": [
        {
          "output_type": "execute_result",
          "data": {
            "text/plain": [
              "<matplotlib.axes._subplots.AxesSubplot at 0x7f3a85b85f60>"
            ]
          },
          "metadata": {
            "tags": []
          },
          "execution_count": 65
        },
        {
          "output_type": "display_data",
          "data": {
            "image/png": "[encoded data removed]",
            "text/plain": [
              "<Figure size 432x288 with 1 Axes>"
            ]
          },
          "metadata": {
            "tags": [],
            "needs_background": "light"
          }
        }
      ]
    },
    {
      "cell_type": "code",
      "metadata": {
        "id": "ruwrETfGWveE",
        "colab_type": "code",
        "outputId": "303d1330-cfb3-441f-8860-be1bf1c736e7",
        "colab": {
          "base_uri": "https://localhost:8080/",
          "height": 173
        }
      },
      "source": [
        "train_df.age.describe()"
      ],
      "execution_count": 66,
      "outputs": [
        {
          "output_type": "execute_result",
          "data": {
            "text/plain": [
              "count    9.418000e+03\n",
              "mean     3.393422e+07\n",
              "std      1.738314e+07\n",
              "min      4.147070e+06\n",
              "25%      2.108517e+07\n",
              "50%      3.214917e+07\n",
              "75%      4.719412e+07\n",
              "max      2.050660e+08\n",
              "Name: age, dtype: float64"
            ]
          },
          "metadata": {
            "tags": []
          },
          "execution_count": 66
        }
      ]
    },
    {
      "cell_type": "code",
      "metadata": {
        "id": "AiMrCnRsXHVe",
        "colab_type": "code",
        "outputId": "4dcdb0f1-0447-4634-aa9c-56ad3cf6add5",
        "colab": {
          "base_uri": "https://localhost:8080/",
          "height": 34
        }
      },
      "source": [
        "# first day of the 2018 year, all previous dates will be removed from the dataset\n",
        "get_date(6.6 * 1e+07)"
      ],
      "execution_count": 67,
      "outputs": [
        {
          "output_type": "execute_result",
          "data": {
            "text/plain": [
              "'Monday, January 01, 2018 02:40:00'"
            ]
          },
          "metadata": {
            "tags": []
          },
          "execution_count": 67
        }
      ]
    },
    {
      "cell_type": "code",
      "metadata": {
        "id": "nbAb3NsvbDW6",
        "colab_type": "code",
        "outputId": "cf8ffb90-af79-4adb-da05-2eb6f3e48a4a",
        "colab": {
          "base_uri": "https://localhost:8080/",
          "height": 34
        }
      },
      "source": [
        "filtered_data = [e for e in  filter(lambda x : x < 6.6 * 1e+07, sorted(train_df.age))]\n",
        "len(filtered_data)"
      ],
      "execution_count": 68,
      "outputs": [
        {
          "output_type": "execute_result",
          "data": {
            "text/plain": [
              "9339"
            ]
          },
          "metadata": {
            "tags": []
          },
          "execution_count": 68
        }
      ]
    },
    {
      "cell_type": "code",
      "metadata": {
        "id": "MXzwrT_gom1n",
        "colab_type": "code",
        "colab": {}
      },
      "source": [
        "# remove all dates before 2018 year\n",
        "train_df = train_df[train_df.age.isin(filtered_data)]"
      ],
      "execution_count": 0,
      "outputs": []
    },
    {
      "cell_type": "code",
      "metadata": {
        "id": "E5Ghz4e_r4XO",
        "colab_type": "code",
        "outputId": "c5ebc1cf-e8c5-423c-ab20-8d5885d7434f",
        "colab": {
          "base_uri": "https://localhost:8080/",
          "height": 173
        }
      },
      "source": [
        "train_df.age.describe()"
      ],
      "execution_count": 70,
      "outputs": [
        {
          "output_type": "execute_result",
          "data": {
            "text/plain": [
              "count    9.339000e+03\n",
              "mean     3.339512e+07\n",
              "std      1.605928e+07\n",
              "min      4.147070e+06\n",
              "25%      2.100618e+07\n",
              "50%      3.193247e+07\n",
              "75%      4.697468e+07\n",
              "max      6.472692e+07\n",
              "Name: age, dtype: float64"
            ]
          },
          "metadata": {
            "tags": []
          },
          "execution_count": 70
        }
      ]
    },
    {
      "cell_type": "code",
      "metadata": {
        "id": "GSLZvpVYr9eZ",
        "colab_type": "code",
        "outputId": "7ba23d3e-f997-4b28-af06-d61f94571101",
        "colab": {
          "base_uri": "https://localhost:8080/",
          "height": 34
        }
      },
      "source": [
        "# first and  last days of new data\n",
        "get_date(4.147070e+06), get_date(6.472692e+07)"
      ],
      "execution_count": 71,
      "outputs": [
        {
          "output_type": "execute_result",
          "data": {
            "text/plain": [
              "('Wednesday, December 18, 2019 12:02:10', 'Monday, January 15, 2018 08:18:00')"
            ]
          },
          "metadata": {
            "tags": []
          },
          "execution_count": 71
        }
      ]
    },
    {
      "cell_type": "code",
      "metadata": {
        "id": "PNPspHuWpkTO",
        "colab_type": "code",
        "outputId": "02a61b1f-575a-4cb9-d80d-c4dae154813b",
        "colab": {
          "base_uri": "https://localhost:8080/",
          "height": 306
        }
      },
      "source": [
        "train_df.age.plot.kde()"
      ],
      "execution_count": 72,
      "outputs": [
        {
          "output_type": "execute_result",
          "data": {
            "text/plain": [
              "<matplotlib.axes._subplots.AxesSubplot at 0x7f3a85b602e8>"
            ]
          },
          "metadata": {
            "tags": []
          },
          "execution_count": 72
        },
        {
          "output_type": "display_data",
          "data": {
            "image/png": "[encoded data removed]",
            "text/plain": [
              "<Figure size 432x288 with 1 Axes>"
            ]
          },
          "metadata": {
            "tags": [],
            "needs_background": "light"
          }
        }
      ]
    },
    {
      "cell_type": "code",
      "metadata": {
        "id": "e6-CQzOrXYS2",
        "colab_type": "code",
        "colab": {}
      },
      "source": [
        "# function to count number of post in each month for 2018 and 2019 years\n",
        "def count_posts_per_month(ages):\n",
        "  dates = [get_date(a) for a in ages]\n",
        "\n",
        "  months = [\"January\", \"February\", \"March\", \"April\", \"May\", \"June\", \"July\", \"August\", \"September\", \"October\", \"November\", \"December\"]\n",
        "  \n",
        "  count_2018 = {m : 0 for m in months}\n",
        "  count_2019 = {m : 0 for m in months}\n",
        "\n",
        "\n",
        "  for date in dates:\n",
        "    date_splitted = date.split(\" \")\n",
        "    month = date_splitted[1]\n",
        "    year = date_splitted[3]\n",
        "\n",
        "    if year == \"2018\":\n",
        "      count_2018[month] += 1\n",
        "    elif year == \"2019\":\n",
        "      count_2019[month] += 1\n",
        "    else:\n",
        "      print(date)\n",
        "  \n",
        "  return count_2018, count_2019\n"
      ],
      "execution_count": 0,
      "outputs": []
    },
    {
      "cell_type": "code",
      "metadata": {
        "id": "vy8tqmxNcDgS",
        "colab_type": "code",
        "colab": {}
      },
      "source": [
        "def plot_posts_by_month(counts):\n",
        "  plt.bar(range(len(counts)), list(counts.values()), align='center')\n",
        "  plt.xticks(range(len(counts)), list(counts.keys()))\n",
        "  plt.show()\n"
      ],
      "execution_count": 0,
      "outputs": []
    },
    {
      "cell_type": "code",
      "metadata": {
        "id": "n-l07wXacnsy",
        "colab_type": "code",
        "colab": {}
      },
      "source": [
        "counts = count_posts_per_month(filtered_data)"
      ],
      "execution_count": 0,
      "outputs": []
    },
    {
      "cell_type": "code",
      "metadata": {
        "id": "uARqputEcwOD",
        "colab_type": "code",
        "outputId": "67d034b7-1bf3-4ef2-a374-2c59e0c6ca85",
        "colab": {
          "base_uri": "https://localhost:8080/",
          "height": 265
        }
      },
      "source": [
        "# 2018 year\n",
        "plot_posts_by_month(counts[0])"
      ],
      "execution_count": 76,
      "outputs": [
        {
          "output_type": "display_data",
          "data": {
            "image/png": "[encoded data removed]",
            "text/plain": [
              "<Figure size 432x288 with 1 Axes>"
            ]
          },
          "metadata": {
            "tags": [],
            "needs_background": "light"
          }
        }
      ]
    },
    {
      "cell_type": "code",
      "metadata": {
        "id": "ItZ3VNWBepfq",
        "colab_type": "code",
        "outputId": "e0104063-c404-40a7-9191-66906bec94f7",
        "colab": {
          "base_uri": "https://localhost:8080/",
          "height": 265
        }
      },
      "source": [
        "# 2019 year\n",
        "plot_posts_by_month(counts[1])"
      ],
      "execution_count": 77,
      "outputs": [
        {
          "output_type": "display_data",
          "data": {
            "image/png": "[encoded data removed]",
            "text/plain": [
              "<Figure size 432x288 with 1 Axes>"
            ]
          },
          "metadata": {
            "tags": [],
            "needs_background": "light"
          }
        }
      ]
    },
    {
      "cell_type": "code",
      "metadata": {
        "id": "f16cq7o8m6N5",
        "colab_type": "code",
        "colab": {}
      },
      "source": [
        ""
      ],
      "execution_count": 0,
      "outputs": []
    }
  ]
}