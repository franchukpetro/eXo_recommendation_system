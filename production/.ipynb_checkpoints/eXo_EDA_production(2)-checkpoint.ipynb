{
 "cells": [
  {
   "cell_type": "code",
   "execution_count": 0,
   "metadata": {
    "cellView": "form",
    "colab": {},
    "colab_type": "code",
    "id": "aSYsNfsQweMo"
   },
   "outputs": [],
   "source": [
    "#@title Download dataset\n",
    "\n",
    "from google.colab import files\n",
    "files.upload()"
   ]
  },
  {
   "cell_type": "code",
   "execution_count": 0,
   "metadata": {
    "colab": {},
    "colab_type": "code",
    "id": "TW9bI1EewzDI"
   },
   "outputs": [],
   "source": [
    "import pandas as pd\n",
    "import numpy as np\n",
    "\n",
    "import matplotlib.pyplot as plt"
   ]
  },
  {
   "cell_type": "code",
   "execution_count": 0,
   "metadata": {
    "colab": {},
    "colab_type": "code",
    "id": "ZkVVALT4xaY8"
   },
   "outputs": [],
   "source": [
    "train_df = pd.read_csv(\"training.csv\")\n",
    "test_df = pd.read_csv(\"predict.csv\")"
   ]
  },
  {
   "cell_type": "code",
   "execution_count": 121,
   "metadata": {
    "colab": {
     "base_uri": "https://localhost:8080/",
     "height": 34
    },
    "colab_type": "code",
    "id": "zXzSe1jDxlVM",
    "outputId": "6c6ea0f0-8414-45fd-83d2-8fe1d59c28d9"
   },
   "outputs": [
    {
     "data": {
      "text/plain": [
       "(9418, 72)"
      ]
     },
     "execution_count": 121,
     "metadata": {
      "tags": []
     },
     "output_type": "execute_result"
    }
   ],
   "source": [
    "train_df.shape"
   ]
  },
  {
   "cell_type": "code",
   "execution_count": 122,
   "metadata": {
    "colab": {
     "base_uri": "https://localhost:8080/",
     "height": 226
    },
    "colab_type": "code",
    "id": "Bgsd9X0ayK1z",
    "outputId": "d4a67266-9d53-42c8-88d4-198402b0c86f"
   },
   "outputs": [
    {
     "data": {
      "text/html": [
       "<div>\n",
       "<style scoped>\n",
       "    .dataframe tbody tr th:only-of-type {\n",
       "        vertical-align: middle;\n",
       "    }\n",
       "\n",
       "    .dataframe tbody tr th {\n",
       "        vertical-align: top;\n",
       "    }\n",
       "\n",
       "    .dataframe thead th {\n",
       "        text-align: right;\n",
       "    }\n",
       "</style>\n",
       "<table border=\"1\" class=\"dataframe\">\n",
       "  <thead>\n",
       "    <tr style=\"text-align: right;\">\n",
       "      <th></th>\n",
       "      <th>id</th>\n",
       "      <th>posted_time</th>\n",
       "      <th>updated_time</th>\n",
       "      <th>age</th>\n",
       "      <th>updated_age</th>\n",
       "      <th>app_type</th>\n",
       "      <th>owner_id</th>\n",
       "      <th>owner_type</th>\n",
       "      <th>owner_influence</th>\n",
       "      <th>number_of_likes</th>\n",
       "      <th>number_of_comments</th>\n",
       "      <th>reactivity</th>\n",
       "      <th>is_mentions_me</th>\n",
       "      <th>is_mentions_connections</th>\n",
       "      <th>is_commented_by_me</th>\n",
       "      <th>is_commented_by_connections</th>\n",
       "      <th>is_liked_by_me</th>\n",
       "      <th>is_liked_by_connections</th>\n",
       "      <th>poster_id</th>\n",
       "      <th>poster_gender</th>\n",
       "      <th>poster_is_employee</th>\n",
       "      <th>poster_is_lead</th>\n",
       "      <th>poster_is_in_connections</th>\n",
       "      <th>poster_focus</th>\n",
       "      <th>poster_order</th>\n",
       "      <th>poster_influence</th>\n",
       "      <th>participant1_id</th>\n",
       "      <th>participant1_action</th>\n",
       "      <th>participant1_gender</th>\n",
       "      <th>participant1_is_employee</th>\n",
       "      <th>participant1_is_lead</th>\n",
       "      <th>participant1_is_in_connections</th>\n",
       "      <th>participant1_focus</th>\n",
       "      <th>participant1_order</th>\n",
       "      <th>participant1_influence</th>\n",
       "      <th>participant2_id</th>\n",
       "      <th>participant2_action</th>\n",
       "      <th>participant2_gender</th>\n",
       "      <th>participant2_is_employee</th>\n",
       "      <th>participant2_is_lead</th>\n",
       "      <th>participant2_is_in_connections</th>\n",
       "      <th>participant2_focus</th>\n",
       "      <th>participant2_order</th>\n",
       "      <th>participant2_influence</th>\n",
       "      <th>participant3_id</th>\n",
       "      <th>participant3_action</th>\n",
       "      <th>participant3_gender</th>\n",
       "      <th>participant3_is_employee</th>\n",
       "      <th>participant3_is_lead</th>\n",
       "      <th>participant3_is_in_connections</th>\n",
       "      <th>participant3_focus</th>\n",
       "      <th>participant3_order</th>\n",
       "      <th>participant3_influence</th>\n",
       "      <th>participant4_id</th>\n",
       "      <th>participant4_action</th>\n",
       "      <th>participant4_gender</th>\n",
       "      <th>participant4_is_employee</th>\n",
       "      <th>participant4_is_lead</th>\n",
       "      <th>participant4_is_in_connections</th>\n",
       "      <th>participant4_focus</th>\n",
       "      <th>participant4_order</th>\n",
       "      <th>participant4_influence</th>\n",
       "      <th>participant5_id</th>\n",
       "      <th>participant5_action</th>\n",
       "      <th>participant5_gender</th>\n",
       "      <th>participant5_is_employee</th>\n",
       "      <th>participant5_is_lead</th>\n",
       "      <th>participant5_is_in_connections</th>\n",
       "      <th>participant5_focus</th>\n",
       "      <th>participant5_order</th>\n",
       "      <th>participant5_influence</th>\n",
       "      <th>rank</th>\n",
       "    </tr>\n",
       "  </thead>\n",
       "  <tbody>\n",
       "    <tr>\n",
       "      <th>0</th>\n",
       "      <td>175339</td>\n",
       "      <td>1.514050e+12</td>\n",
       "      <td>1.514050e+12</td>\n",
       "      <td>6.315242e+10</td>\n",
       "      <td>6.315242e+10</td>\n",
       "      <td>other</td>\n",
       "      <td>57727</td>\n",
       "      <td>space</td>\n",
       "      <td>0.99973</td>\n",
       "      <td>1</td>\n",
       "      <td>0</td>\n",
       "      <td>1.00000</td>\n",
       "      <td>0</td>\n",
       "      <td>0</td>\n",
       "      <td>0</td>\n",
       "      <td>0</td>\n",
       "      <td>0</td>\n",
       "      <td>1</td>\n",
       "      <td>5</td>\n",
       "      <td>male</td>\n",
       "      <td>1</td>\n",
       "      <td>0</td>\n",
       "      <td>1</td>\n",
       "      <td>marketing</td>\n",
       "      <td>6</td>\n",
       "      <td>0.99962</td>\n",
       "      <td>146</td>\n",
       "      <td>liked</td>\n",
       "      <td>male</td>\n",
       "      <td>1</td>\n",
       "      <td>0</td>\n",
       "      <td>1</td>\n",
       "      <td>marketing</td>\n",
       "      <td>5</td>\n",
       "      <td>0.99899</td>\n",
       "      <td>22636</td>\n",
       "      <td>viewed</td>\n",
       "      <td>male</td>\n",
       "      <td>0</td>\n",
       "      <td>0</td>\n",
       "      <td>1</td>\n",
       "      <td>other</td>\n",
       "      <td>4</td>\n",
       "      <td>0.23077</td>\n",
       "      <td>3080</td>\n",
       "      <td>viewed</td>\n",
       "      <td>male</td>\n",
       "      <td>0</td>\n",
       "      <td>0</td>\n",
       "      <td>1</td>\n",
       "      <td>marketing</td>\n",
       "      <td>3</td>\n",
       "      <td>0.23077</td>\n",
       "      <td>44661</td>\n",
       "      <td>viewed</td>\n",
       "      <td>male</td>\n",
       "      <td>0</td>\n",
       "      <td>0</td>\n",
       "      <td>1</td>\n",
       "      <td>other</td>\n",
       "      <td>2</td>\n",
       "      <td>0.23077</td>\n",
       "      <td>3089</td>\n",
       "      <td>viewed</td>\n",
       "      <td>male</td>\n",
       "      <td>0</td>\n",
       "      <td>0</td>\n",
       "      <td>1</td>\n",
       "      <td>other</td>\n",
       "      <td>1</td>\n",
       "      <td>0.23077</td>\n",
       "      <td>0.73677</td>\n",
       "    </tr>\n",
       "    <tr>\n",
       "      <th>1</th>\n",
       "      <td>175348</td>\n",
       "      <td>1.514110e+12</td>\n",
       "      <td>1.515160e+12</td>\n",
       "      <td>6.309278e+10</td>\n",
       "      <td>6.204696e+10</td>\n",
       "      <td>forum</td>\n",
       "      <td>111913</td>\n",
       "      <td>space</td>\n",
       "      <td>0.99977</td>\n",
       "      <td>0</td>\n",
       "      <td>2</td>\n",
       "      <td>0.12336</td>\n",
       "      <td>0</td>\n",
       "      <td>0</td>\n",
       "      <td>0</td>\n",
       "      <td>1</td>\n",
       "      <td>0</td>\n",
       "      <td>0</td>\n",
       "      <td>146</td>\n",
       "      <td>male</td>\n",
       "      <td>1</td>\n",
       "      <td>0</td>\n",
       "      <td>1</td>\n",
       "      <td>marketing</td>\n",
       "      <td>6</td>\n",
       "      <td>0.99899</td>\n",
       "      <td>13659</td>\n",
       "      <td>commented</td>\n",
       "      <td>male</td>\n",
       "      <td>0</td>\n",
       "      <td>0</td>\n",
       "      <td>0</td>\n",
       "      <td>other</td>\n",
       "      <td>5</td>\n",
       "      <td>0.99756</td>\n",
       "      <td>146</td>\n",
       "      <td>commented</td>\n",
       "      <td>male</td>\n",
       "      <td>1</td>\n",
       "      <td>0</td>\n",
       "      <td>1</td>\n",
       "      <td>marketing</td>\n",
       "      <td>4</td>\n",
       "      <td>0.99899</td>\n",
       "      <td>22636</td>\n",
       "      <td>viewed</td>\n",
       "      <td>male</td>\n",
       "      <td>0</td>\n",
       "      <td>0</td>\n",
       "      <td>1</td>\n",
       "      <td>other</td>\n",
       "      <td>3</td>\n",
       "      <td>0.23077</td>\n",
       "      <td>3080</td>\n",
       "      <td>viewed</td>\n",
       "      <td>male</td>\n",
       "      <td>0</td>\n",
       "      <td>0</td>\n",
       "      <td>1</td>\n",
       "      <td>marketing</td>\n",
       "      <td>2</td>\n",
       "      <td>0.23077</td>\n",
       "      <td>44661</td>\n",
       "      <td>viewed</td>\n",
       "      <td>male</td>\n",
       "      <td>0</td>\n",
       "      <td>0</td>\n",
       "      <td>1</td>\n",
       "      <td>other</td>\n",
       "      <td>1</td>\n",
       "      <td>0.23077</td>\n",
       "      <td>0.78240</td>\n",
       "    </tr>\n",
       "    <tr>\n",
       "      <th>2</th>\n",
       "      <td>175353</td>\n",
       "      <td>1.514120e+12</td>\n",
       "      <td>1.515160e+12</td>\n",
       "      <td>6.309049e+10</td>\n",
       "      <td>6.204716e+10</td>\n",
       "      <td>forum</td>\n",
       "      <td>111913</td>\n",
       "      <td>space</td>\n",
       "      <td>0.99977</td>\n",
       "      <td>0</td>\n",
       "      <td>3</td>\n",
       "      <td>0.12336</td>\n",
       "      <td>0</td>\n",
       "      <td>0</td>\n",
       "      <td>0</td>\n",
       "      <td>1</td>\n",
       "      <td>0</td>\n",
       "      <td>0</td>\n",
       "      <td>146</td>\n",
       "      <td>male</td>\n",
       "      <td>1</td>\n",
       "      <td>0</td>\n",
       "      <td>1</td>\n",
       "      <td>marketing</td>\n",
       "      <td>6</td>\n",
       "      <td>0.99899</td>\n",
       "      <td>13659</td>\n",
       "      <td>commented</td>\n",
       "      <td>male</td>\n",
       "      <td>0</td>\n",
       "      <td>0</td>\n",
       "      <td>0</td>\n",
       "      <td>other</td>\n",
       "      <td>5</td>\n",
       "      <td>0.99756</td>\n",
       "      <td>13</td>\n",
       "      <td>commented</td>\n",
       "      <td>male</td>\n",
       "      <td>1</td>\n",
       "      <td>0</td>\n",
       "      <td>1</td>\n",
       "      <td>marketing</td>\n",
       "      <td>4</td>\n",
       "      <td>0.99895</td>\n",
       "      <td>146</td>\n",
       "      <td>commented</td>\n",
       "      <td>male</td>\n",
       "      <td>1</td>\n",
       "      <td>0</td>\n",
       "      <td>1</td>\n",
       "      <td>marketing</td>\n",
       "      <td>3</td>\n",
       "      <td>0.99899</td>\n",
       "      <td>22636</td>\n",
       "      <td>viewed</td>\n",
       "      <td>male</td>\n",
       "      <td>0</td>\n",
       "      <td>0</td>\n",
       "      <td>1</td>\n",
       "      <td>other</td>\n",
       "      <td>2</td>\n",
       "      <td>0.23077</td>\n",
       "      <td>3080</td>\n",
       "      <td>viewed</td>\n",
       "      <td>male</td>\n",
       "      <td>0</td>\n",
       "      <td>0</td>\n",
       "      <td>1</td>\n",
       "      <td>marketing</td>\n",
       "      <td>1</td>\n",
       "      <td>0.23077</td>\n",
       "      <td>0.82125</td>\n",
       "    </tr>\n",
       "    <tr>\n",
       "      <th>3</th>\n",
       "      <td>175371</td>\n",
       "      <td>1.514190e+12</td>\n",
       "      <td>1.514190e+12</td>\n",
       "      <td>6.301324e+10</td>\n",
       "      <td>6.301324e+10</td>\n",
       "      <td>other</td>\n",
       "      <td>9037</td>\n",
       "      <td>space</td>\n",
       "      <td>0.99949</td>\n",
       "      <td>0</td>\n",
       "      <td>0</td>\n",
       "      <td>0.00000</td>\n",
       "      <td>0</td>\n",
       "      <td>0</td>\n",
       "      <td>0</td>\n",
       "      <td>0</td>\n",
       "      <td>0</td>\n",
       "      <td>0</td>\n",
       "      <td>7</td>\n",
       "      <td>male</td>\n",
       "      <td>1</td>\n",
       "      <td>0</td>\n",
       "      <td>1</td>\n",
       "      <td>marketing</td>\n",
       "      <td>6</td>\n",
       "      <td>0.99886</td>\n",
       "      <td>22636</td>\n",
       "      <td>viewed</td>\n",
       "      <td>male</td>\n",
       "      <td>0</td>\n",
       "      <td>0</td>\n",
       "      <td>1</td>\n",
       "      <td>other</td>\n",
       "      <td>5</td>\n",
       "      <td>0.23077</td>\n",
       "      <td>3080</td>\n",
       "      <td>viewed</td>\n",
       "      <td>male</td>\n",
       "      <td>0</td>\n",
       "      <td>0</td>\n",
       "      <td>1</td>\n",
       "      <td>marketing</td>\n",
       "      <td>4</td>\n",
       "      <td>0.23077</td>\n",
       "      <td>44661</td>\n",
       "      <td>viewed</td>\n",
       "      <td>male</td>\n",
       "      <td>0</td>\n",
       "      <td>0</td>\n",
       "      <td>1</td>\n",
       "      <td>other</td>\n",
       "      <td>3</td>\n",
       "      <td>0.23077</td>\n",
       "      <td>3089</td>\n",
       "      <td>viewed</td>\n",
       "      <td>male</td>\n",
       "      <td>0</td>\n",
       "      <td>0</td>\n",
       "      <td>1</td>\n",
       "      <td>other</td>\n",
       "      <td>2</td>\n",
       "      <td>0.23077</td>\n",
       "      <td>3084</td>\n",
       "      <td>viewed</td>\n",
       "      <td>male</td>\n",
       "      <td>0</td>\n",
       "      <td>0</td>\n",
       "      <td>1</td>\n",
       "      <td>marketing</td>\n",
       "      <td>1</td>\n",
       "      <td>0.23077</td>\n",
       "      <td>0.61522</td>\n",
       "    </tr>\n",
       "    <tr>\n",
       "      <th>4</th>\n",
       "      <td>175372</td>\n",
       "      <td>1.514190e+12</td>\n",
       "      <td>1.514190e+12</td>\n",
       "      <td>6.301323e+10</td>\n",
       "      <td>6.301323e+10</td>\n",
       "      <td>other</td>\n",
       "      <td>9037</td>\n",
       "      <td>space</td>\n",
       "      <td>0.99949</td>\n",
       "      <td>0</td>\n",
       "      <td>0</td>\n",
       "      <td>0.00000</td>\n",
       "      <td>0</td>\n",
       "      <td>0</td>\n",
       "      <td>0</td>\n",
       "      <td>0</td>\n",
       "      <td>0</td>\n",
       "      <td>0</td>\n",
       "      <td>7</td>\n",
       "      <td>male</td>\n",
       "      <td>1</td>\n",
       "      <td>0</td>\n",
       "      <td>1</td>\n",
       "      <td>marketing</td>\n",
       "      <td>6</td>\n",
       "      <td>0.99886</td>\n",
       "      <td>22636</td>\n",
       "      <td>viewed</td>\n",
       "      <td>male</td>\n",
       "      <td>0</td>\n",
       "      <td>0</td>\n",
       "      <td>1</td>\n",
       "      <td>other</td>\n",
       "      <td>5</td>\n",
       "      <td>0.23077</td>\n",
       "      <td>3080</td>\n",
       "      <td>viewed</td>\n",
       "      <td>male</td>\n",
       "      <td>0</td>\n",
       "      <td>0</td>\n",
       "      <td>1</td>\n",
       "      <td>marketing</td>\n",
       "      <td>4</td>\n",
       "      <td>0.23077</td>\n",
       "      <td>44661</td>\n",
       "      <td>viewed</td>\n",
       "      <td>male</td>\n",
       "      <td>0</td>\n",
       "      <td>0</td>\n",
       "      <td>1</td>\n",
       "      <td>other</td>\n",
       "      <td>3</td>\n",
       "      <td>0.23077</td>\n",
       "      <td>3089</td>\n",
       "      <td>viewed</td>\n",
       "      <td>male</td>\n",
       "      <td>0</td>\n",
       "      <td>0</td>\n",
       "      <td>1</td>\n",
       "      <td>other</td>\n",
       "      <td>2</td>\n",
       "      <td>0.23077</td>\n",
       "      <td>3084</td>\n",
       "      <td>viewed</td>\n",
       "      <td>male</td>\n",
       "      <td>0</td>\n",
       "      <td>0</td>\n",
       "      <td>1</td>\n",
       "      <td>marketing</td>\n",
       "      <td>1</td>\n",
       "      <td>0.23077</td>\n",
       "      <td>0.61522</td>\n",
       "    </tr>\n",
       "  </tbody>\n",
       "</table>\n",
       "</div>"
      ],
      "text/plain": [
       "       id   posted_time  ...  participant5_influence     rank\n",
       "0  175339  1.514050e+12  ...                 0.23077  0.73677\n",
       "1  175348  1.514110e+12  ...                 0.23077  0.78240\n",
       "2  175353  1.514120e+12  ...                 0.23077  0.82125\n",
       "3  175371  1.514190e+12  ...                 0.23077  0.61522\n",
       "4  175372  1.514190e+12  ...                 0.23077  0.61522\n",
       "\n",
       "[5 rows x 72 columns]"
      ]
     },
     "execution_count": 122,
     "metadata": {
      "tags": []
     },
     "output_type": "execute_result"
    }
   ],
   "source": [
    "train_df.head()"
   ]
  },
  {
   "cell_type": "markdown",
   "metadata": {
    "colab_type": "text",
    "id": "F-g5RpRIUzRs"
   },
   "source": [
    "# **Age column investigation**\n",
    "Here I'll research and investigate how do we can proceed with 'age' column"
   ]
  },
  {
   "cell_type": "code",
   "execution_count": 0,
   "metadata": {
    "colab": {},
    "colab_type": "code",
    "id": "SackB0QU5Pnb"
   },
   "outputs": [],
   "source": [
    "import datetime\n",
    "import time\n",
    "\n",
    "# date of dataset creation\n",
    "DATE = '4/02/2020'\n",
    "\n",
    "current_date = datetime.datetime.strptime(DATE, \"%d/%m/%Y\")\n",
    "current_secs = time.mktime(current_date.timetuple())"
   ]
  },
  {
   "cell_type": "code",
   "execution_count": 0,
   "metadata": {
    "colab": {},
    "colab_type": "code",
    "id": "UeySVMKdW2_X"
   },
   "outputs": [],
   "source": [
    "def get_date(secs):\n",
    "  return datetime.datetime.fromtimestamp(current_secs - secs).strftime(\"%A, %B %d, %Y %I:%M:%S\")"
   ]
  },
  {
   "cell_type": "code",
   "execution_count": 0,
   "metadata": {
    "colab": {},
    "colab_type": "code",
    "id": "29i7g_alRXvn"
   },
   "outputs": [],
   "source": [
    "# convert time from miliseconds to seconds\n",
    "train_df.age /= 1000"
   ]
  },
  {
   "cell_type": "code",
   "execution_count": 0,
   "metadata": {
    "colab": {
     "base_uri": "https://localhost:8080/",
     "height": 306
    },
    "colab_type": "code",
    "id": "d5xjui9vV_RS",
    "outputId": "c6c2b9ef-8b2f-4cf3-fe53-3534362e3616"
   },
   "outputs": [
    {
     "data": {
      "text/plain": [
       "<matplotlib.axes._subplots.AxesSubplot at 0x7f3a85b85f60>"
      ]
     },
     "execution_count": 65,
     "metadata": {
      "tags": []
     },
     "output_type": "execute_result"
    },
    {
     "data": {
      "image/png": "[encoded data removed]",
      "text/plain": [
       "<Figure size 432x288 with 1 Axes>"
      ]
     },
     "metadata": {
      "needs_background": "light",
      "tags": []
     },
     "output_type": "display_data"
    }
   ],
   "source": [
    "train_df.age.plot.kde()"
   ]
  },
  {
   "cell_type": "code",
   "execution_count": 0,
   "metadata": {
    "colab": {
     "base_uri": "https://localhost:8080/",
     "height": 173
    },
    "colab_type": "code",
    "id": "ruwrETfGWveE",
    "outputId": "303d1330-cfb3-441f-8860-be1bf1c736e7"
   },
   "outputs": [
    {
     "data": {
      "text/plain": [
       "count    9.418000e+03\n",
       "mean     3.393422e+07\n",
       "std      1.738314e+07\n",
       "min      4.147070e+06\n",
       "25%      2.108517e+07\n",
       "50%      3.214917e+07\n",
       "75%      4.719412e+07\n",
       "max      2.050660e+08\n",
       "Name: age, dtype: float64"
      ]
     },
     "execution_count": 66,
     "metadata": {
      "tags": []
     },
     "output_type": "execute_result"
    }
   ],
   "source": [
    "train_df.age.describe()"
   ]
  },
  {
   "cell_type": "code",
   "execution_count": 0,
   "metadata": {
    "colab": {
     "base_uri": "https://localhost:8080/",
     "height": 34
    },
    "colab_type": "code",
    "id": "AiMrCnRsXHVe",
    "outputId": "4dcdb0f1-0447-4634-aa9c-56ad3cf6add5"
   },
   "outputs": [
    {
     "data": {
      "text/plain": [
       "'Monday, January 01, 2018 02:40:00'"
      ]
     },
     "execution_count": 67,
     "metadata": {
      "tags": []
     },
     "output_type": "execute_result"
    }
   ],
   "source": [
    "# first day of the 2018 year, all previous dates will be removed from the dataset\n",
    "get_date(6.6 * 1e+07)"
   ]
  },
  {
   "cell_type": "code",
   "execution_count": 0,
   "metadata": {
    "colab": {
     "base_uri": "https://localhost:8080/",
     "height": 34
    },
    "colab_type": "code",
    "id": "nbAb3NsvbDW6",
    "outputId": "cf8ffb90-af79-4adb-da05-2eb6f3e48a4a"
   },
   "outputs": [
    {
     "data": {
      "text/plain": [
       "9339"
      ]
     },
     "execution_count": 68,
     "metadata": {
      "tags": []
     },
     "output_type": "execute_result"
    }
   ],
   "source": [
    "filtered_data = [e for e in  filter(lambda x : x < 6.6 * 1e+07, sorted(train_df.age))]\n",
    "len(filtered_data)"
   ]
  },
  {
   "cell_type": "code",
   "execution_count": 0,
   "metadata": {
    "colab": {},
    "colab_type": "code",
    "id": "MXzwrT_gom1n"
   },
   "outputs": [],
   "source": [
    "# remove all dates before 2018 year\n",
    "train_df = train_df[train_df.age.isin(filtered_data)]"
   ]
  },
  {
   "cell_type": "code",
   "execution_count": 0,
   "metadata": {
    "colab": {
     "base_uri": "https://localhost:8080/",
     "height": 173
    },
    "colab_type": "code",
    "id": "E5Ghz4e_r4XO",
    "outputId": "c5ebc1cf-e8c5-423c-ab20-8d5885d7434f"
   },
   "outputs": [
    {
     "data": {
      "text/plain": [
       "count    9.339000e+03\n",
       "mean     3.339512e+07\n",
       "std      1.605928e+07\n",
       "min      4.147070e+06\n",
       "25%      2.100618e+07\n",
       "50%      3.193247e+07\n",
       "75%      4.697468e+07\n",
       "max      6.472692e+07\n",
       "Name: age, dtype: float64"
      ]
     },
     "execution_count": 70,
     "metadata": {
      "tags": []
     },
     "output_type": "execute_result"
    }
   ],
   "source": [
    "train_df.age.describe()"
   ]
  },
  {
   "cell_type": "code",
   "execution_count": 0,
   "metadata": {
    "colab": {
     "base_uri": "https://localhost:8080/",
     "height": 34
    },
    "colab_type": "code",
    "id": "GSLZvpVYr9eZ",
    "outputId": "7ba23d3e-f997-4b28-af06-d61f94571101"
   },
   "outputs": [
    {
     "data": {
      "text/plain": [
       "('Wednesday, December 18, 2019 12:02:10', 'Monday, January 15, 2018 08:18:00')"
      ]
     },
     "execution_count": 71,
     "metadata": {
      "tags": []
     },
     "output_type": "execute_result"
    }
   ],
   "source": [
    "# first and  last days of new data\n",
    "get_date(4.147070e+06), get_date(6.472692e+07)"
   ]
  },
  {
   "cell_type": "code",
   "execution_count": 0,
   "metadata": {
    "colab": {
     "base_uri": "https://localhost:8080/",
     "height": 306
    },
    "colab_type": "code",
    "id": "PNPspHuWpkTO",
    "outputId": "02a61b1f-575a-4cb9-d80d-c4dae154813b"
   },
   "outputs": [
    {
     "data": {
      "text/plain": [
       "<matplotlib.axes._subplots.AxesSubplot at 0x7f3a85b602e8>"
      ]
     },
     "execution_count": 72,
     "metadata": {
      "tags": []
     },
     "output_type": "execute_result"
    },
    {
     "data": {
      "image/png": "[encoded data removed]",
      "text/plain": [
       "<Figure size 432x288 with 1 Axes>"
      ]
     },
     "metadata": {
      "needs_background": "light",
      "tags": []
     },
     "output_type": "display_data"
    }
   ],
   "source": [
    "train_df.age.plot.kde()"
   ]
  },
  {
   "cell_type": "code",
   "execution_count": 0,
   "metadata": {
    "colab": {},
    "colab_type": "code",
    "id": "e6-CQzOrXYS2"
   },
   "outputs": [],
   "source": [
    "# function to count number of post in each month for 2018 and 2019 years\n",
    "def count_posts_per_month(ages):\n",
    "  dates = [get_date(a) for a in ages]\n",
    "\n",
    "  months = [\"January\", \"February\", \"March\", \"April\", \"May\", \"June\", \"July\", \"August\", \"September\", \"October\", \"November\", \"December\"]\n",
    "  \n",
    "  count_2018 = {m : 0 for m in months}\n",
    "  count_2019 = {m : 0 for m in months}\n",
    "\n",
    "\n",
    "  for date in dates:\n",
    "    date_splitted = date.split(\" \")\n",
    "    month = date_splitted[1]\n",
    "    year = date_splitted[3]\n",
    "\n",
    "    if year == \"2018\":\n",
    "      count_2018[month] += 1\n",
    "    elif year == \"2019\":\n",
    "      count_2019[month] += 1\n",
    "    else:\n",
    "      print(date)\n",
    "  \n",
    "  return count_2018, count_2019\n"
   ]
  },
  {
   "cell_type": "code",
   "execution_count": 0,
   "metadata": {
    "colab": {},
    "colab_type": "code",
    "id": "vy8tqmxNcDgS"
   },
   "outputs": [],
   "source": [
    "def plot_posts_by_month(counts):\n",
    "  plt.bar(range(len(counts)), list(counts.values()), align='center')\n",
    "  plt.xticks(range(len(counts)), list(counts.keys()))\n",
    "  plt.show()\n"
   ]
  },
  {
   "cell_type": "code",
   "execution_count": 0,
   "metadata": {
    "colab": {},
    "colab_type": "code",
    "id": "n-l07wXacnsy"
   },
   "outputs": [],
   "source": [
    "counts = count_posts_per_month(filtered_data)"
   ]
  },
  {
   "cell_type": "code",
   "execution_count": 0,
   "metadata": {
    "colab": {
     "base_uri": "https://localhost:8080/",
     "height": 265
    },
    "colab_type": "code",
    "id": "uARqputEcwOD",
    "outputId": "67d034b7-1bf3-4ef2-a374-2c59e0c6ca85"
   },
   "outputs": [
    {
     "data": {
      "image/png": "[encoded data removed]",
      "text/plain": [
       "<Figure size 432x288 with 1 Axes>"
      ]
     },
     "metadata": {
      "needs_background": "light",
      "tags": []
     },
     "output_type": "display_data"
    }
   ],
   "source": [
    "# 2018 year\n",
    "plot_posts_by_month(counts[0])"
   ]
  },
  {
   "cell_type": "code",
   "execution_count": 0,
   "metadata": {
    "colab": {
     "base_uri": "https://localhost:8080/",
     "height": 265
    },
    "colab_type": "code",
    "id": "ItZ3VNWBepfq",
    "outputId": "e0104063-c404-40a7-9191-66906bec94f7"
   },
   "outputs": [
    {
     "data": {
      "image/png": "[encoded data removed]",
      "text/plain": [
       "<Figure size 432x288 with 1 Axes>"
      ]
     },
     "metadata": {
      "needs_background": "light",
      "tags": []
     },
     "output_type": "display_data"
    }
   ],
   "source": [
    "# 2019 year\n",
    "plot_posts_by_month(counts[1])"
   ]
  },
  {
   "cell_type": "markdown",
   "metadata": {
    "colab_type": "text",
    "id": "r-4IHB5xOlCH"
   },
   "source": [
    "# **Prediction data analysis**"
   ]
  },
  {
   "cell_type": "code",
   "execution_count": 123,
   "metadata": {
    "colab": {
     "base_uri": "https://localhost:8080/",
     "height": 226
    },
    "colab_type": "code",
    "id": "-U7Lhn7fOq4s",
    "outputId": "7fcf36a1-75b0-4ddd-a691-03268bb9896d"
   },
   "outputs": [
    {
     "data": {
      "text/html": [
       "<div>\n",
       "<style scoped>\n",
       "    .dataframe tbody tr th:only-of-type {\n",
       "        vertical-align: middle;\n",
       "    }\n",
       "\n",
       "    .dataframe tbody tr th {\n",
       "        vertical-align: top;\n",
       "    }\n",
       "\n",
       "    .dataframe thead th {\n",
       "        text-align: right;\n",
       "    }\n",
       "</style>\n",
       "<table border=\"1\" class=\"dataframe\">\n",
       "  <thead>\n",
       "    <tr style=\"text-align: right;\">\n",
       "      <th></th>\n",
       "      <th>id</th>\n",
       "      <th>posted_time</th>\n",
       "      <th>updated_time</th>\n",
       "      <th>age</th>\n",
       "      <th>updated_age</th>\n",
       "      <th>app_type</th>\n",
       "      <th>owner_id</th>\n",
       "      <th>owner_type</th>\n",
       "      <th>owner_influence</th>\n",
       "      <th>number_of_likes</th>\n",
       "      <th>number_of_comments</th>\n",
       "      <th>reactivity</th>\n",
       "      <th>is_mentions_me</th>\n",
       "      <th>is_mentions_connections</th>\n",
       "      <th>is_commented_by_me</th>\n",
       "      <th>is_commented_by_connections</th>\n",
       "      <th>is_liked_by_me</th>\n",
       "      <th>is_liked_by_connections</th>\n",
       "      <th>poster_id</th>\n",
       "      <th>poster_gender</th>\n",
       "      <th>poster_is_employee</th>\n",
       "      <th>poster_is_lead</th>\n",
       "      <th>poster_is_in_connections</th>\n",
       "      <th>poster_focus</th>\n",
       "      <th>poster_order</th>\n",
       "      <th>poster_influence</th>\n",
       "      <th>participant1_id</th>\n",
       "      <th>participant1_action</th>\n",
       "      <th>participant1_gender</th>\n",
       "      <th>participant1_is_employee</th>\n",
       "      <th>participant1_is_lead</th>\n",
       "      <th>participant1_is_in_connections</th>\n",
       "      <th>participant1_focus</th>\n",
       "      <th>participant1_order</th>\n",
       "      <th>participant1_influence</th>\n",
       "      <th>participant2_id</th>\n",
       "      <th>participant2_action</th>\n",
       "      <th>participant2_gender</th>\n",
       "      <th>participant2_is_employee</th>\n",
       "      <th>participant2_is_lead</th>\n",
       "      <th>participant2_is_in_connections</th>\n",
       "      <th>participant2_focus</th>\n",
       "      <th>participant2_order</th>\n",
       "      <th>participant2_influence</th>\n",
       "      <th>participant3_id</th>\n",
       "      <th>participant3_action</th>\n",
       "      <th>participant3_gender</th>\n",
       "      <th>participant3_is_employee</th>\n",
       "      <th>participant3_is_lead</th>\n",
       "      <th>participant3_is_in_connections</th>\n",
       "      <th>participant3_focus</th>\n",
       "      <th>participant3_order</th>\n",
       "      <th>participant3_influence</th>\n",
       "      <th>participant4_id</th>\n",
       "      <th>participant4_action</th>\n",
       "      <th>participant4_gender</th>\n",
       "      <th>participant4_is_employee</th>\n",
       "      <th>participant4_is_lead</th>\n",
       "      <th>participant4_is_in_connections</th>\n",
       "      <th>participant4_focus</th>\n",
       "      <th>participant4_order</th>\n",
       "      <th>participant4_influence</th>\n",
       "      <th>participant5_id</th>\n",
       "      <th>participant5_action</th>\n",
       "      <th>participant5_gender</th>\n",
       "      <th>participant5_is_employee</th>\n",
       "      <th>participant5_is_lead</th>\n",
       "      <th>participant5_is_in_connections</th>\n",
       "      <th>participant5_focus</th>\n",
       "      <th>participant5_order</th>\n",
       "      <th>participant5_influence</th>\n",
       "    </tr>\n",
       "  </thead>\n",
       "  <tbody>\n",
       "    <tr>\n",
       "      <th>0</th>\n",
       "      <td>273721</td>\n",
       "      <td>1.575530e+12</td>\n",
       "      <td>1.575530e+12</td>\n",
       "      <td>1.686167e+09</td>\n",
       "      <td>1.686167e+09</td>\n",
       "      <td>other</td>\n",
       "      <td>57727</td>\n",
       "      <td>space</td>\n",
       "      <td>0.99973</td>\n",
       "      <td>13</td>\n",
       "      <td>7</td>\n",
       "      <td>0</td>\n",
       "      <td>0</td>\n",
       "      <td>1</td>\n",
       "      <td>0</td>\n",
       "      <td>1</td>\n",
       "      <td>0</td>\n",
       "      <td>1</td>\n",
       "      <td>119825</td>\n",
       "      <td>female</td>\n",
       "      <td>1</td>\n",
       "      <td>0</td>\n",
       "      <td>0</td>\n",
       "      <td>other</td>\n",
       "      <td>6</td>\n",
       "      <td>0.99754</td>\n",
       "      <td>5</td>\n",
       "      <td>commented</td>\n",
       "      <td>male</td>\n",
       "      <td>1</td>\n",
       "      <td>0</td>\n",
       "      <td>1</td>\n",
       "      <td>marketing</td>\n",
       "      <td>5</td>\n",
       "      <td>0.99962</td>\n",
       "      <td>129104</td>\n",
       "      <td>commented</td>\n",
       "      <td>female</td>\n",
       "      <td>1</td>\n",
       "      <td>0</td>\n",
       "      <td>0</td>\n",
       "      <td>marketing</td>\n",
       "      <td>4</td>\n",
       "      <td>0.99500</td>\n",
       "      <td>4</td>\n",
       "      <td>commented</td>\n",
       "      <td>male</td>\n",
       "      <td>1</td>\n",
       "      <td>0</td>\n",
       "      <td>1</td>\n",
       "      <td>marketing</td>\n",
       "      <td>3</td>\n",
       "      <td>0.99867</td>\n",
       "      <td>41</td>\n",
       "      <td>commented</td>\n",
       "      <td>male</td>\n",
       "      <td>1</td>\n",
       "      <td>0</td>\n",
       "      <td>1</td>\n",
       "      <td>sales</td>\n",
       "      <td>2</td>\n",
       "      <td>0.99828</td>\n",
       "      <td>7</td>\n",
       "      <td>commented</td>\n",
       "      <td>male</td>\n",
       "      <td>1</td>\n",
       "      <td>0</td>\n",
       "      <td>1</td>\n",
       "      <td>marketing</td>\n",
       "      <td>1</td>\n",
       "      <td>0.99886</td>\n",
       "    </tr>\n",
       "    <tr>\n",
       "      <th>1</th>\n",
       "      <td>273985</td>\n",
       "      <td>1.575580e+12</td>\n",
       "      <td>1.575580e+12</td>\n",
       "      <td>1.634145e+09</td>\n",
       "      <td>1.634145e+09</td>\n",
       "      <td>other</td>\n",
       "      <td>3201</td>\n",
       "      <td>space</td>\n",
       "      <td>0.99992</td>\n",
       "      <td>4</td>\n",
       "      <td>0</td>\n",
       "      <td>0</td>\n",
       "      <td>0</td>\n",
       "      <td>0</td>\n",
       "      <td>0</td>\n",
       "      <td>0</td>\n",
       "      <td>0</td>\n",
       "      <td>1</td>\n",
       "      <td>119825</td>\n",
       "      <td>female</td>\n",
       "      <td>1</td>\n",
       "      <td>0</td>\n",
       "      <td>0</td>\n",
       "      <td>other</td>\n",
       "      <td>6</td>\n",
       "      <td>0.99754</td>\n",
       "      <td>122534</td>\n",
       "      <td>liked</td>\n",
       "      <td>male</td>\n",
       "      <td>1</td>\n",
       "      <td>0</td>\n",
       "      <td>1</td>\n",
       "      <td>marketing</td>\n",
       "      <td>5</td>\n",
       "      <td>0.99678</td>\n",
       "      <td>10</td>\n",
       "      <td>liked</td>\n",
       "      <td>male</td>\n",
       "      <td>1</td>\n",
       "      <td>0</td>\n",
       "      <td>1</td>\n",
       "      <td>marketing</td>\n",
       "      <td>4</td>\n",
       "      <td>0.99902</td>\n",
       "      <td>7</td>\n",
       "      <td>liked</td>\n",
       "      <td>male</td>\n",
       "      <td>1</td>\n",
       "      <td>0</td>\n",
       "      <td>1</td>\n",
       "      <td>marketing</td>\n",
       "      <td>3</td>\n",
       "      <td>0.99886</td>\n",
       "      <td>5</td>\n",
       "      <td>liked</td>\n",
       "      <td>male</td>\n",
       "      <td>1</td>\n",
       "      <td>0</td>\n",
       "      <td>1</td>\n",
       "      <td>marketing</td>\n",
       "      <td>2</td>\n",
       "      <td>0.99962</td>\n",
       "      <td>22636</td>\n",
       "      <td>viewed</td>\n",
       "      <td>male</td>\n",
       "      <td>0</td>\n",
       "      <td>0</td>\n",
       "      <td>1</td>\n",
       "      <td>other</td>\n",
       "      <td>1</td>\n",
       "      <td>0.23077</td>\n",
       "    </tr>\n",
       "    <tr>\n",
       "      <th>2</th>\n",
       "      <td>273750</td>\n",
       "      <td>1.575540e+12</td>\n",
       "      <td>1.575540e+12</td>\n",
       "      <td>1.681664e+09</td>\n",
       "      <td>1.681664e+09</td>\n",
       "      <td>other</td>\n",
       "      <td>57727</td>\n",
       "      <td>space</td>\n",
       "      <td>0.99973</td>\n",
       "      <td>2</td>\n",
       "      <td>5</td>\n",
       "      <td>0</td>\n",
       "      <td>0</td>\n",
       "      <td>1</td>\n",
       "      <td>0</td>\n",
       "      <td>1</td>\n",
       "      <td>0</td>\n",
       "      <td>1</td>\n",
       "      <td>129104</td>\n",
       "      <td>female</td>\n",
       "      <td>1</td>\n",
       "      <td>0</td>\n",
       "      <td>0</td>\n",
       "      <td>marketing</td>\n",
       "      <td>6</td>\n",
       "      <td>0.99500</td>\n",
       "      <td>109375</td>\n",
       "      <td>commented</td>\n",
       "      <td>male</td>\n",
       "      <td>1</td>\n",
       "      <td>0</td>\n",
       "      <td>1</td>\n",
       "      <td>marketing</td>\n",
       "      <td>5</td>\n",
       "      <td>0.99715</td>\n",
       "      <td>129104</td>\n",
       "      <td>commented</td>\n",
       "      <td>female</td>\n",
       "      <td>1</td>\n",
       "      <td>0</td>\n",
       "      <td>0</td>\n",
       "      <td>marketing</td>\n",
       "      <td>4</td>\n",
       "      <td>0.99500</td>\n",
       "      <td>4</td>\n",
       "      <td>commented</td>\n",
       "      <td>male</td>\n",
       "      <td>1</td>\n",
       "      <td>0</td>\n",
       "      <td>1</td>\n",
       "      <td>marketing</td>\n",
       "      <td>3</td>\n",
       "      <td>0.99867</td>\n",
       "      <td>108025</td>\n",
       "      <td>commented</td>\n",
       "      <td>male</td>\n",
       "      <td>1</td>\n",
       "      <td>0</td>\n",
       "      <td>0</td>\n",
       "      <td>marketing</td>\n",
       "      <td>2</td>\n",
       "      <td>0.99891</td>\n",
       "      <td>7</td>\n",
       "      <td>commented</td>\n",
       "      <td>male</td>\n",
       "      <td>1</td>\n",
       "      <td>0</td>\n",
       "      <td>1</td>\n",
       "      <td>marketing</td>\n",
       "      <td>1</td>\n",
       "      <td>0.99886</td>\n",
       "    </tr>\n",
       "    <tr>\n",
       "      <th>3</th>\n",
       "      <td>273302</td>\n",
       "      <td>1.575370e+12</td>\n",
       "      <td>1.575370e+12</td>\n",
       "      <td>1.852591e+09</td>\n",
       "      <td>1.852591e+09</td>\n",
       "      <td>other</td>\n",
       "      <td>126877</td>\n",
       "      <td>space</td>\n",
       "      <td>0.50000</td>\n",
       "      <td>0</td>\n",
       "      <td>2</td>\n",
       "      <td>0</td>\n",
       "      <td>0</td>\n",
       "      <td>0</td>\n",
       "      <td>0</td>\n",
       "      <td>1</td>\n",
       "      <td>0</td>\n",
       "      <td>0</td>\n",
       "      <td>7</td>\n",
       "      <td>male</td>\n",
       "      <td>1</td>\n",
       "      <td>0</td>\n",
       "      <td>1</td>\n",
       "      <td>marketing</td>\n",
       "      <td>6</td>\n",
       "      <td>0.99886</td>\n",
       "      <td>108025</td>\n",
       "      <td>commented</td>\n",
       "      <td>male</td>\n",
       "      <td>1</td>\n",
       "      <td>0</td>\n",
       "      <td>0</td>\n",
       "      <td>marketing</td>\n",
       "      <td>5</td>\n",
       "      <td>0.99891</td>\n",
       "      <td>7</td>\n",
       "      <td>commented</td>\n",
       "      <td>male</td>\n",
       "      <td>1</td>\n",
       "      <td>0</td>\n",
       "      <td>1</td>\n",
       "      <td>marketing</td>\n",
       "      <td>4</td>\n",
       "      <td>0.99886</td>\n",
       "      <td>22636</td>\n",
       "      <td>viewed</td>\n",
       "      <td>male</td>\n",
       "      <td>0</td>\n",
       "      <td>0</td>\n",
       "      <td>1</td>\n",
       "      <td>other</td>\n",
       "      <td>3</td>\n",
       "      <td>0.23077</td>\n",
       "      <td>3080</td>\n",
       "      <td>viewed</td>\n",
       "      <td>male</td>\n",
       "      <td>0</td>\n",
       "      <td>0</td>\n",
       "      <td>1</td>\n",
       "      <td>marketing</td>\n",
       "      <td>2</td>\n",
       "      <td>0.23077</td>\n",
       "      <td>44661</td>\n",
       "      <td>viewed</td>\n",
       "      <td>male</td>\n",
       "      <td>0</td>\n",
       "      <td>0</td>\n",
       "      <td>1</td>\n",
       "      <td>other</td>\n",
       "      <td>1</td>\n",
       "      <td>0.23077</td>\n",
       "    </tr>\n",
       "    <tr>\n",
       "      <th>4</th>\n",
       "      <td>273897</td>\n",
       "      <td>1.575560e+12</td>\n",
       "      <td>1.575560e+12</td>\n",
       "      <td>1.661083e+09</td>\n",
       "      <td>1.661083e+09</td>\n",
       "      <td>other</td>\n",
       "      <td>57727</td>\n",
       "      <td>space</td>\n",
       "      <td>0.99973</td>\n",
       "      <td>4</td>\n",
       "      <td>5</td>\n",
       "      <td>0</td>\n",
       "      <td>0</td>\n",
       "      <td>0</td>\n",
       "      <td>0</td>\n",
       "      <td>1</td>\n",
       "      <td>0</td>\n",
       "      <td>1</td>\n",
       "      <td>109375</td>\n",
       "      <td>male</td>\n",
       "      <td>1</td>\n",
       "      <td>0</td>\n",
       "      <td>1</td>\n",
       "      <td>marketing</td>\n",
       "      <td>6</td>\n",
       "      <td>0.99715</td>\n",
       "      <td>108025</td>\n",
       "      <td>commented</td>\n",
       "      <td>male</td>\n",
       "      <td>1</td>\n",
       "      <td>0</td>\n",
       "      <td>0</td>\n",
       "      <td>marketing</td>\n",
       "      <td>5</td>\n",
       "      <td>0.99891</td>\n",
       "      <td>5</td>\n",
       "      <td>commented</td>\n",
       "      <td>male</td>\n",
       "      <td>1</td>\n",
       "      <td>0</td>\n",
       "      <td>1</td>\n",
       "      <td>marketing</td>\n",
       "      <td>4</td>\n",
       "      <td>0.99962</td>\n",
       "      <td>129104</td>\n",
       "      <td>commented</td>\n",
       "      <td>female</td>\n",
       "      <td>1</td>\n",
       "      <td>0</td>\n",
       "      <td>0</td>\n",
       "      <td>marketing</td>\n",
       "      <td>3</td>\n",
       "      <td>0.99500</td>\n",
       "      <td>146</td>\n",
       "      <td>commented</td>\n",
       "      <td>male</td>\n",
       "      <td>1</td>\n",
       "      <td>0</td>\n",
       "      <td>1</td>\n",
       "      <td>marketing</td>\n",
       "      <td>2</td>\n",
       "      <td>0.99899</td>\n",
       "      <td>4</td>\n",
       "      <td>commented</td>\n",
       "      <td>male</td>\n",
       "      <td>1</td>\n",
       "      <td>0</td>\n",
       "      <td>1</td>\n",
       "      <td>marketing</td>\n",
       "      <td>1</td>\n",
       "      <td>0.99867</td>\n",
       "    </tr>\n",
       "  </tbody>\n",
       "</table>\n",
       "</div>"
      ],
      "text/plain": [
       "       id   posted_time  ...  participant5_order  participant5_influence\n",
       "0  273721  1.575530e+12  ...                   1                 0.99886\n",
       "1  273985  1.575580e+12  ...                   1                 0.23077\n",
       "2  273750  1.575540e+12  ...                   1                 0.99886\n",
       "3  273302  1.575370e+12  ...                   1                 0.23077\n",
       "4  273897  1.575560e+12  ...                   1                 0.99867\n",
       "\n",
       "[5 rows x 71 columns]"
      ]
     },
     "execution_count": 123,
     "metadata": {
      "tags": []
     },
     "output_type": "execute_result"
    }
   ],
   "source": [
    "test_df.head()"
   ]
  },
  {
   "cell_type": "code",
   "execution_count": 124,
   "metadata": {
    "colab": {
     "base_uri": "https://localhost:8080/",
     "height": 34
    },
    "colab_type": "code",
    "id": "dx3nm0AtPVX4",
    "outputId": "dc75b428-c9aa-4b59-a3ff-a13fae610687"
   },
   "outputs": [
    {
     "data": {
      "text/plain": [
       "(100, 71)"
      ]
     },
     "execution_count": 124,
     "metadata": {
      "tags": []
     },
     "output_type": "execute_result"
    }
   ],
   "source": [
    "test_df.shape"
   ]
  },
  {
   "cell_type": "code",
   "execution_count": 0,
   "metadata": {
    "colab": {},
    "colab_type": "code",
    "id": "uB9NCCJzPYP8"
   },
   "outputs": [],
   "source": [
    "# conver to seconds\n",
    "test_df.posted_time /= 1000"
   ]
  },
  {
   "cell_type": "code",
   "execution_count": 0,
   "metadata": {
    "colab": {},
    "colab_type": "code",
    "id": "c6XvH3QvPiWP"
   },
   "outputs": [],
   "source": [
    "def get_date(secs):\n",
    "  return datetime.datetime.fromtimestamp(secs).strftime(\"%A, %d/%m/%Y %I:%M:%S\")\n",
    "\n",
    "def get_date_separated(secs):\n",
    "  date = datetime.datetime.fromtimestamp(secs)\n",
    "  # return year, month, weekday, hour\n",
    "  return int(date.strftime(\"%Y\")), int(date.strftime(\"%m\")), date.strftime(\"%A\"), int(date.strftime(\"%H\")), int(date.strftime(\"%d\"))"
   ]
  },
  {
   "cell_type": "code",
   "execution_count": 127,
   "metadata": {
    "colab": {
     "base_uri": "https://localhost:8080/",
     "height": 34
    },
    "colab_type": "code",
    "id": "a2SzLnpTPtVm",
    "outputId": "953e9de6-21de-4f39-c2cb-8b7733876857"
   },
   "outputs": [
    {
     "data": {
      "text/plain": [
       "'Thursday, 05/12/2019 07:13:20'"
      ]
     },
     "execution_count": 127,
     "metadata": {
      "tags": []
     },
     "output_type": "execute_result"
    }
   ],
   "source": [
    "get_date(test_df.posted_time[0])"
   ]
  },
  {
   "cell_type": "code",
   "execution_count": 128,
   "metadata": {
    "colab": {
     "base_uri": "https://localhost:8080/",
     "height": 295
    },
    "colab_type": "code",
    "id": "CbCHhpXugY3c",
    "outputId": "db1b9c2b-a5e4-4e15-81a1-c989907eae29"
   },
   "outputs": [
    {
     "data": {
      "image/png": "[encoded data removed]",
      "text/plain": [
       "<Figure size 1152x288 with 2 Axes>"
      ]
     },
     "metadata": {
      "needs_background": "light",
      "tags": []
     },
     "output_type": "display_data"
    }
   ],
   "source": [
    "plt.figure(figsize=(16, 4))\n",
    "\n",
    "plt.subplot(131)\n",
    "pd.Series([get_date_separated(i)[0] for i in test_df.posted_time]).value_counts().plot(kind=\"bar\")\n",
    "plt.xlabel('Years distribution')\n",
    "\n",
    "plt.subplot(132)\n",
    "pd.Series([get_date_separated(i)[1] for i in test_df.posted_time]).value_counts().plot(kind=\"bar\")\n",
    "plt.xlabel('Months distribution')\n",
    "\n",
    "plt.show()"
   ]
  },
  {
   "cell_type": "code",
   "execution_count": 129,
   "metadata": {
    "colab": {
     "base_uri": "https://localhost:8080/",
     "height": 344
    },
    "colab_type": "code",
    "id": "gvlfLRDbjXJO",
    "outputId": "0ab150c4-68ac-40ca-e916-732716646905"
   },
   "outputs": [
    {
     "data": {
      "text/plain": [
       "Text(0.5, 0, 'Hours distribution')"
      ]
     },
     "execution_count": 129,
     "metadata": {
      "tags": []
     },
     "output_type": "execute_result"
    },
    {
     "data": {
      "image/png": "[encoded data removed]",
      "text/plain": [
       "<Figure size 1152x288 with 2 Axes>"
      ]
     },
     "metadata": {
      "needs_background": "light",
      "tags": []
     },
     "output_type": "display_data"
    }
   ],
   "source": [
    "plt.figure(figsize=(16, 4))\n",
    "\n",
    "\n",
    "plt.subplot(131)\n",
    "pd.Series([get_date_separated(i)[2] for i in test_df.posted_time]).value_counts().plot(kind=\"bar\")\n",
    "plt.xlabel('Weekday distribution')\n",
    "\n",
    "\n",
    "plt.subplot(132)\n",
    "pd.Series([get_date_separated(i)[3] for i in test_df.posted_time]).value_counts().plot(kind=\"bar\")\n",
    "plt.xlabel('Hours distribution')\n"
   ]
  },
  {
   "cell_type": "code",
   "execution_count": 130,
   "metadata": {
    "colab": {
     "base_uri": "https://localhost:8080/",
     "height": 34
    },
    "colab_type": "code",
    "id": "getur3JYkD3c",
    "outputId": "94745b89-53a6-470e-8919-8d09b7907041"
   },
   "outputs": [
    {
     "data": {
      "text/plain": [
       "95"
      ]
     },
     "execution_count": 130,
     "metadata": {
      "tags": []
     },
     "output_type": "execute_result"
    }
   ],
   "source": [
    "filtered_data = [e for e in  filter(lambda x : get_date_separated(x)[0] == 2019, test_df.posted_time)]\n",
    "len(filtered_data)"
   ]
  },
  {
   "cell_type": "code",
   "execution_count": 0,
   "metadata": {
    "colab": {},
    "colab_type": "code",
    "id": "N5gf4s29kgXp"
   },
   "outputs": [],
   "source": [
    "# remove all dates before 2019 year\n",
    "new_test_df = test_df[test_df.posted_time.isin(filtered_data)]"
   ]
  },
  {
   "cell_type": "code",
   "execution_count": 132,
   "metadata": {
    "colab": {
     "base_uri": "https://localhost:8080/",
     "height": 327
    },
    "colab_type": "code",
    "id": "U5HbOxRYk4lX",
    "outputId": "fe6128c5-76ec-4a0c-e0d1-ac8a7485e08a"
   },
   "outputs": [
    {
     "data": {
      "image/png": "[encoded data removed]",
      "text/plain": [
       "<Figure size 1152x288 with 3 Axes>"
      ]
     },
     "metadata": {
      "needs_background": "light",
      "tags": []
     },
     "output_type": "display_data"
    }
   ],
   "source": [
    "# plot prediction data only for 2019 year \n",
    "plt.figure(figsize=(16, 4))\n",
    "\n",
    "plt.subplot(131)\n",
    "pd.Series([get_date_separated(i)[1] for i in new_test_df.posted_time]).value_counts().plot(kind=\"bar\")\n",
    "plt.xlabel('Months distribution')\n",
    "\n",
    "plt.subplot(132)\n",
    "pd.Series([get_date_separated(i)[2] for i in new_test_df.posted_time]).value_counts().plot(kind=\"bar\")\n",
    "plt.xlabel('Weekday distribution')\n",
    "\n",
    "\n",
    "plt.subplot(133)\n",
    "pd.Series([get_date_separated(i)[3] for i in new_test_df.posted_time]).value_counts().plot(kind=\"bar\")\n",
    "plt.xlabel('Hours distribution')\n",
    "\n",
    "plt.show()"
   ]
  },
  {
   "cell_type": "code",
   "execution_count": 0,
   "metadata": {
    "colab": {},
    "colab_type": "code",
    "id": "2l_nYgaplGqw"
   },
   "outputs": [],
   "source": [
    "# filter posted_time for December 2019, month with majority of the posts\n",
    "filtered_by_month = [get_date_separated(e)[4] for e in  filter(lambda x : get_date_separated(x)[1] == 12, new_test_df.posted_time)]\n",
    "december = pd.Series(sorted(filtered_by_month))"
   ]
  },
  {
   "cell_type": "code",
   "execution_count": 134,
   "metadata": {
    "colab": {
     "base_uri": "https://localhost:8080/",
     "height": 279
    },
    "colab_type": "code",
    "id": "C9hMIJILmrLa",
    "outputId": "361ac68d-06e2-462e-b8cc-10cce565fd7c"
   },
   "outputs": [
    {
     "data": {
      "text/plain": [
       "<matplotlib.axes._subplots.AxesSubplot at 0x7f8481238400>"
      ]
     },
     "execution_count": 134,
     "metadata": {
      "tags": []
     },
     "output_type": "execute_result"
    },
    {
     "data": {
      "image/png": "[encoded data removed]",
      "text/plain": [
       "<Figure size 432x288 with 1 Axes>"
      ]
     },
     "metadata": {
      "needs_background": "light",
      "tags": []
     },
     "output_type": "display_data"
    }
   ],
   "source": [
    "december.value_counts().plot(kind=\"bar\")"
   ]
  }
 ],
 "metadata": {
  "accelerator": "GPU",
  "colab": {
   "collapsed_sections": [
    "F-g5RpRIUzRs"
   ],
   "name": "eXo_EDA_production.ipynb",
   "provenance": []
  },
  "kernelspec": {
   "display_name": "Python 3",
   "language": "python",
   "name": "python3"
  },
  "language_info": {
   "codemirror_mode": {
    "name": "ipython",
    "version": 3
   },
   "file_extension": ".py",
   "mimetype": "text/x-python",
   "name": "python",
   "nbconvert_exporter": "python",
   "pygments_lexer": "ipython3",
   "version": "3.8.2"
  }
 },
 "nbformat": 4,
 "nbformat_minor": 1
}
